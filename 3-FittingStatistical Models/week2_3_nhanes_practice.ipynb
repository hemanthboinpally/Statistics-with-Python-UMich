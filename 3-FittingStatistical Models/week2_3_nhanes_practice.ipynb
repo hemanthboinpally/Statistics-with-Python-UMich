{
 "cells": [
  {
   "cell_type": "markdown",
   "metadata": {},
   "source": [
    "# Practice notebook for regression analysis with NHANES\n",
    "\n",
    "This notebook will give you the opportunity to perform some\n",
    "regression analyses with the NHANES data that are similar to\n",
    "the analyses done in the week 2 case study notebook.\n",
    "\n",
    "You can enter your code into the cells that say \"enter your code here\",\n",
    "and you can type responses to the questions into the cells that say \"Type Markdown and Latex\".\n",
    "\n",
    "Note that most of the code that you will need to write below is very similar\n",
    "to code that appears in the case study notebook.  You will need\n",
    "to edit code from that notebook in small ways to adapt it to the\n",
    "prompts below.\n",
    "\n",
    "To get started, we will use the same module imports and\n",
    "read the data in the same way as we did in the case study:"
   ]
  },
  {
   "cell_type": "code",
   "execution_count": 4,
   "metadata": {},
   "outputs": [],
   "source": [
    "%matplotlib inline\n",
    "import matplotlib.pyplot as plt\n",
    "import seaborn as sns\n",
    "import pandas as pd\n",
    "import statsmodels.api as sm\n",
    "import numpy as np\n",
    "\n",
    "url = \"https://raw.githubusercontent.com/kshedden/statswpy/master/NHANES/merged/nhanes_2015_2016.csv\"\n",
    "da = pd.read_csv(url)\n",
    "\n",
    "# Drop unused columns, drop rows with any missing values.\n",
    "vars = [\"BPXSY1\", \"RIDAGEYR\", \"RIAGENDR\", \"RIDRETH1\", \"DMDEDUC2\", \"BMXBMI\", \"SMQ020\"]\n",
    "da = da[vars].dropna()"
   ]
  },
  {
   "cell_type": "markdown",
   "metadata": {},
   "source": [
    "## Question 1:\n",
    "\n",
    "Use linear regression to relate the expected body mass index (BMI) to a person's age."
   ]
  },
  {
   "cell_type": "code",
   "execution_count": 5,
   "metadata": {},
   "outputs": [
    {
     "data": {
      "text/html": [
       "<table class=\"simpletable\">\n",
       "<caption>OLS Regression Results</caption>\n",
       "<tr>\n",
       "  <th>Dep. Variable:</th>         <td>BPXSY1</td>      <th>  R-squared:         </th> <td>   0.207</td> \n",
       "</tr>\n",
       "<tr>\n",
       "  <th>Model:</th>                   <td>OLS</td>       <th>  Adj. R-squared:    </th> <td>   0.207</td> \n",
       "</tr>\n",
       "<tr>\n",
       "  <th>Method:</th>             <td>Least Squares</td>  <th>  F-statistic:       </th> <td>   1333.</td> \n",
       "</tr>\n",
       "<tr>\n",
       "  <th>Date:</th>             <td>Wed, 17 Jun 2020</td> <th>  Prob (F-statistic):</th> <td>2.09e-259</td>\n",
       "</tr>\n",
       "<tr>\n",
       "  <th>Time:</th>                 <td>12:23:56</td>     <th>  Log-Likelihood:    </th> <td> -21530.</td> \n",
       "</tr>\n",
       "<tr>\n",
       "  <th>No. Observations:</th>      <td>  5102</td>      <th>  AIC:               </th> <td>4.306e+04</td>\n",
       "</tr>\n",
       "<tr>\n",
       "  <th>Df Residuals:</th>          <td>  5100</td>      <th>  BIC:               </th> <td>4.308e+04</td>\n",
       "</tr>\n",
       "<tr>\n",
       "  <th>Df Model:</th>              <td>     1</td>      <th>                     </th>     <td> </td>    \n",
       "</tr>\n",
       "<tr>\n",
       "  <th>Covariance Type:</th>      <td>nonrobust</td>    <th>                     </th>     <td> </td>    \n",
       "</tr>\n",
       "</table>\n",
       "<table class=\"simpletable\">\n",
       "<tr>\n",
       "      <td></td>         <th>coef</th>     <th>std err</th>      <th>t</th>      <th>P>|t|</th>  <th>[0.025</th>    <th>0.975]</th>  \n",
       "</tr>\n",
       "<tr>\n",
       "  <th>Intercept</th> <td>  102.0935</td> <td>    0.685</td> <td>  149.120</td> <td> 0.000</td> <td>  100.751</td> <td>  103.436</td>\n",
       "</tr>\n",
       "<tr>\n",
       "  <th>RIDAGEYR</th>  <td>    0.4759</td> <td>    0.013</td> <td>   36.504</td> <td> 0.000</td> <td>    0.450</td> <td>    0.501</td>\n",
       "</tr>\n",
       "</table>\n",
       "<table class=\"simpletable\">\n",
       "<tr>\n",
       "  <th>Omnibus:</th>       <td>690.261</td> <th>  Durbin-Watson:     </th> <td>   2.039</td>\n",
       "</tr>\n",
       "<tr>\n",
       "  <th>Prob(Omnibus):</th> <td> 0.000</td>  <th>  Jarque-Bera (JB):  </th> <td>1505.999</td>\n",
       "</tr>\n",
       "<tr>\n",
       "  <th>Skew:</th>          <td> 0.810</td>  <th>  Prob(JB):          </th> <td>    0.00</td>\n",
       "</tr>\n",
       "<tr>\n",
       "  <th>Kurtosis:</th>      <td> 5.112</td>  <th>  Cond. No.          </th> <td>    156.</td>\n",
       "</tr>\n",
       "</table><br/><br/>Warnings:<br/>[1] Standard Errors assume that the covariance matrix of the errors is correctly specified."
      ],
      "text/plain": [
       "<class 'statsmodels.iolib.summary.Summary'>\n",
       "\"\"\"\n",
       "                            OLS Regression Results                            \n",
       "==============================================================================\n",
       "Dep. Variable:                 BPXSY1   R-squared:                       0.207\n",
       "Model:                            OLS   Adj. R-squared:                  0.207\n",
       "Method:                 Least Squares   F-statistic:                     1333.\n",
       "Date:                Wed, 17 Jun 2020   Prob (F-statistic):          2.09e-259\n",
       "Time:                        12:23:56   Log-Likelihood:                -21530.\n",
       "No. Observations:                5102   AIC:                         4.306e+04\n",
       "Df Residuals:                    5100   BIC:                         4.308e+04\n",
       "Df Model:                           1                                         \n",
       "Covariance Type:            nonrobust                                         \n",
       "==============================================================================\n",
       "                 coef    std err          t      P>|t|      [0.025      0.975]\n",
       "------------------------------------------------------------------------------\n",
       "Intercept    102.0935      0.685    149.120      0.000     100.751     103.436\n",
       "RIDAGEYR       0.4759      0.013     36.504      0.000       0.450       0.501\n",
       "==============================================================================\n",
       "Omnibus:                      690.261   Durbin-Watson:                   2.039\n",
       "Prob(Omnibus):                  0.000   Jarque-Bera (JB):             1505.999\n",
       "Skew:                           0.810   Prob(JB):                         0.00\n",
       "Kurtosis:                       5.112   Cond. No.                         156.\n",
       "==============================================================================\n",
       "\n",
       "Warnings:\n",
       "[1] Standard Errors assume that the covariance matrix of the errors is correctly specified.\n",
       "\"\"\""
      ]
     },
     "execution_count": 5,
     "metadata": {},
     "output_type": "execute_result"
    }
   ],
   "source": [
    "model = sm.OLS.from_formula(\"BPXSY1 ~ RIDAGEYR\", data=da)\n",
    "result = model.fit()\n",
    "result.summary()"
   ]
  },
  {
   "cell_type": "code",
   "execution_count": null,
   "metadata": {},
   "outputs": [],
   "source": []
  },
  {
   "cell_type": "markdown",
   "metadata": {},
   "source": [
    "__Q1a.__ According to your fitted model, do older people tend to have higher or lower BMI than younger people?"
   ]
  },
  {
   "cell_type": "markdown",
   "metadata": {},
   "source": [
    "Higher"
   ]
  },
  {
   "cell_type": "markdown",
   "metadata": {},
   "source": [
    "__Q1b.__ Based your analysis, are you confident that there is a relationship between BMI and age in the population that NHANES represents?"
   ]
  },
  {
   "cell_type": "markdown",
   "metadata": {},
   "source": [
    "Yes,  P-value shows the significance of the parameter."
   ]
  },
  {
   "cell_type": "markdown",
   "metadata": {},
   "source": [
    "__Q1c.__ By how much does the average BMI of a 40 year old differ from the average BMI of a 20 year old?"
   ]
  },
  {
   "cell_type": "markdown",
   "metadata": {},
   "source": [
    "0.459 * 40 - 0.459 * 20"
   ]
  },
  {
   "cell_type": "markdown",
   "metadata": {},
   "source": [
    "__Q1d.__ What fraction of the variation of BMI in this population is explained by age?"
   ]
  },
  {
   "cell_type": "markdown",
   "metadata": {},
   "source": [
    "20.7 %"
   ]
  },
  {
   "cell_type": "markdown",
   "metadata": {},
   "source": [
    "## Question 2: \n",
    "\n",
    "Add gender and ethnicity as additional control variables to your linear model relating BMI to age.  You will need to recode the ethnic groups based\n",
    "on the values in the codebook entry for [RIDRETH1](https://wwwn.cdc.gov/Nchs/Nhanes/2015-2016/DEMO_I.htm#RIDRETH1)."
   ]
  },
  {
   "cell_type": "code",
   "execution_count": 6,
   "metadata": {},
   "outputs": [
    {
     "data": {
      "text/plain": [
       "3    1692\n",
       "4    1058\n",
       "1     896\n",
       "5     771\n",
       "2     685\n",
       "Name: RIDRETH1, dtype: int64"
      ]
     },
     "execution_count": 6,
     "metadata": {},
     "output_type": "execute_result"
    }
   ],
   "source": [
    "da['RIDRETH1'].value_counts()"
   ]
  },
  {
   "cell_type": "code",
   "execution_count": 7,
   "metadata": {},
   "outputs": [],
   "source": [
    "da['RIDRETH1x'] = da.RIDRETH1.replace({1:\"Mexican American\",\n",
    "2:\"Other Hispanic\",\n",
    "3:\"Non-Hispanic White\",\n",
    "4:\"Non-Hispanic Black\",\n",
    "5:\"Other Race - Including Multi-Racial\"})"
   ]
  },
  {
   "cell_type": "code",
   "execution_count": 8,
   "metadata": {},
   "outputs": [
    {
     "data": {
      "text/plain": [
       "2    2640\n",
       "1    2462\n",
       "Name: RIAGENDR, dtype: int64"
      ]
     },
     "execution_count": 8,
     "metadata": {},
     "output_type": "execute_result"
    }
   ],
   "source": [
    "da['RIAGENDR'].value_counts()"
   ]
  },
  {
   "cell_type": "code",
   "execution_count": 9,
   "metadata": {},
   "outputs": [],
   "source": [
    "# Create a labeled version of the gender variable\n",
    "da[\"RIAGENDRx\"] = da.RIAGENDR.replace({1: \"Male\", 2: \"Female\"})"
   ]
  },
  {
   "cell_type": "code",
   "execution_count": 10,
   "metadata": {},
   "outputs": [
    {
     "data": {
      "text/html": [
       "<table class=\"simpletable\">\n",
       "<caption>OLS Regression Results</caption>\n",
       "<tr>\n",
       "  <th>Dep. Variable:</th>         <td>BPXSY1</td>      <th>  R-squared:         </th> <td>   0.230</td> \n",
       "</tr>\n",
       "<tr>\n",
       "  <th>Model:</th>                   <td>OLS</td>       <th>  Adj. R-squared:    </th> <td>   0.229</td> \n",
       "</tr>\n",
       "<tr>\n",
       "  <th>Method:</th>             <td>Least Squares</td>  <th>  F-statistic:       </th> <td>   253.1</td> \n",
       "</tr>\n",
       "<tr>\n",
       "  <th>Date:</th>             <td>Wed, 17 Jun 2020</td> <th>  Prob (F-statistic):</th> <td>4.26e-284</td>\n",
       "</tr>\n",
       "<tr>\n",
       "  <th>Time:</th>                 <td>12:23:57</td>     <th>  Log-Likelihood:    </th> <td> -21456.</td> \n",
       "</tr>\n",
       "<tr>\n",
       "  <th>No. Observations:</th>      <td>  5102</td>      <th>  AIC:               </th> <td>4.293e+04</td>\n",
       "</tr>\n",
       "<tr>\n",
       "  <th>Df Residuals:</th>          <td>  5095</td>      <th>  BIC:               </th> <td>4.297e+04</td>\n",
       "</tr>\n",
       "<tr>\n",
       "  <th>Df Model:</th>              <td>     6</td>      <th>                     </th>     <td> </td>    \n",
       "</tr>\n",
       "<tr>\n",
       "  <th>Covariance Type:</th>      <td>nonrobust</td>    <th>                     </th>     <td> </td>    \n",
       "</tr>\n",
       "</table>\n",
       "<table class=\"simpletable\">\n",
       "<tr>\n",
       "                          <td></td>                            <th>coef</th>     <th>std err</th>      <th>t</th>      <th>P>|t|</th>  <th>[0.025</th>    <th>0.975]</th>  \n",
       "</tr>\n",
       "<tr>\n",
       "  <th>Intercept</th>                                        <td>  100.4207</td> <td>    0.850</td> <td>  118.135</td> <td> 0.000</td> <td>   98.754</td> <td>  102.087</td>\n",
       "</tr>\n",
       "<tr>\n",
       "  <th>RIAGENDRx[T.Male]</th>                                <td>    3.3870</td> <td>    0.456</td> <td>    7.435</td> <td> 0.000</td> <td>    2.494</td> <td>    4.280</td>\n",
       "</tr>\n",
       "<tr>\n",
       "  <th>RIDRETH1x[T.Non-Hispanic Black]</th>                  <td>    3.6882</td> <td>    0.737</td> <td>    5.004</td> <td> 0.000</td> <td>    2.243</td> <td>    5.133</td>\n",
       "</tr>\n",
       "<tr>\n",
       "  <th>RIDRETH1x[T.Non-Hispanic White]</th>                  <td>   -2.3120</td> <td>    0.674</td> <td>   -3.432</td> <td> 0.001</td> <td>   -3.633</td> <td>   -0.991</td>\n",
       "</tr>\n",
       "<tr>\n",
       "  <th>RIDRETH1x[T.Other Hispanic]</th>                      <td>    0.5947</td> <td>    0.824</td> <td>    0.721</td> <td> 0.471</td> <td>   -1.021</td> <td>    2.211</td>\n",
       "</tr>\n",
       "<tr>\n",
       "  <th>RIDRETH1x[T.Other Race - Including Multi-Racial]</th> <td>   -1.7842</td> <td>    0.798</td> <td>   -2.235</td> <td> 0.025</td> <td>   -3.350</td> <td>   -0.219</td>\n",
       "</tr>\n",
       "<tr>\n",
       "  <th>RIDAGEYR</th>                                         <td>    0.4805</td> <td>    0.013</td> <td>   37.001</td> <td> 0.000</td> <td>    0.455</td> <td>    0.506</td>\n",
       "</tr>\n",
       "</table>\n",
       "<table class=\"simpletable\">\n",
       "<tr>\n",
       "  <th>Omnibus:</th>       <td>692.818</td> <th>  Durbin-Watson:     </th> <td>   2.037</td>\n",
       "</tr>\n",
       "<tr>\n",
       "  <th>Prob(Omnibus):</th> <td> 0.000</td>  <th>  Jarque-Bera (JB):  </th> <td>1536.495</td>\n",
       "</tr>\n",
       "<tr>\n",
       "  <th>Skew:</th>          <td> 0.807</td>  <th>  Prob(JB):          </th> <td>    0.00</td>\n",
       "</tr>\n",
       "<tr>\n",
       "  <th>Kurtosis:</th>      <td> 5.150</td>  <th>  Cond. No.          </th> <td>    308.</td>\n",
       "</tr>\n",
       "</table><br/><br/>Warnings:<br/>[1] Standard Errors assume that the covariance matrix of the errors is correctly specified."
      ],
      "text/plain": [
       "<class 'statsmodels.iolib.summary.Summary'>\n",
       "\"\"\"\n",
       "                            OLS Regression Results                            \n",
       "==============================================================================\n",
       "Dep. Variable:                 BPXSY1   R-squared:                       0.230\n",
       "Model:                            OLS   Adj. R-squared:                  0.229\n",
       "Method:                 Least Squares   F-statistic:                     253.1\n",
       "Date:                Wed, 17 Jun 2020   Prob (F-statistic):          4.26e-284\n",
       "Time:                        12:23:57   Log-Likelihood:                -21456.\n",
       "No. Observations:                5102   AIC:                         4.293e+04\n",
       "Df Residuals:                    5095   BIC:                         4.297e+04\n",
       "Df Model:                           6                                         \n",
       "Covariance Type:            nonrobust                                         \n",
       "====================================================================================================================\n",
       "                                                       coef    std err          t      P>|t|      [0.025      0.975]\n",
       "--------------------------------------------------------------------------------------------------------------------\n",
       "Intercept                                          100.4207      0.850    118.135      0.000      98.754     102.087\n",
       "RIAGENDRx[T.Male]                                    3.3870      0.456      7.435      0.000       2.494       4.280\n",
       "RIDRETH1x[T.Non-Hispanic Black]                      3.6882      0.737      5.004      0.000       2.243       5.133\n",
       "RIDRETH1x[T.Non-Hispanic White]                     -2.3120      0.674     -3.432      0.001      -3.633      -0.991\n",
       "RIDRETH1x[T.Other Hispanic]                          0.5947      0.824      0.721      0.471      -1.021       2.211\n",
       "RIDRETH1x[T.Other Race - Including Multi-Racial]    -1.7842      0.798     -2.235      0.025      -3.350      -0.219\n",
       "RIDAGEYR                                             0.4805      0.013     37.001      0.000       0.455       0.506\n",
       "==============================================================================\n",
       "Omnibus:                      692.818   Durbin-Watson:                   2.037\n",
       "Prob(Omnibus):                  0.000   Jarque-Bera (JB):             1536.495\n",
       "Skew:                           0.807   Prob(JB):                         0.00\n",
       "Kurtosis:                       5.150   Cond. No.                         308.\n",
       "==============================================================================\n",
       "\n",
       "Warnings:\n",
       "[1] Standard Errors assume that the covariance matrix of the errors is correctly specified.\n",
       "\"\"\""
      ]
     },
     "execution_count": 10,
     "metadata": {},
     "output_type": "execute_result"
    }
   ],
   "source": [
    "model = sm.OLS.from_formula(\"BPXSY1 ~ RIDAGEYR + RIAGENDRx + RIDRETH1x\", data=da)\n",
    "result = model.fit()\n",
    "result.summary()"
   ]
  },
  {
   "cell_type": "markdown",
   "metadata": {},
   "source": [
    "__Q2a.__ How did the mean relationship between BMI and age change when you added additional covariates to the model?"
   ]
  },
  {
   "cell_type": "markdown",
   "metadata": {},
   "source": [
    "Remains the same"
   ]
  },
  {
   "cell_type": "markdown",
   "metadata": {},
   "source": [
    "__Q2b.__ How did the standard error for the regression parameter for age change when you added additional covariates to the model?"
   ]
  },
  {
   "cell_type": "markdown",
   "metadata": {},
   "source": [
    "Remained the same."
   ]
  },
  {
   "cell_type": "markdown",
   "metadata": {},
   "source": [
    "__Q2c.__ How much additional variation in BMI is explained by age, gender, and ethnicity that is not explained by age alone?"
   ]
  },
  {
   "cell_type": "markdown",
   "metadata": {},
   "source": [
    "3%"
   ]
  },
  {
   "cell_type": "markdown",
   "metadata": {},
   "source": [
    "__Q2d.__ What reference level did the software select for the ethnicity variable?"
   ]
  },
  {
   "cell_type": "markdown",
   "metadata": {},
   "source": [
    "Mexican American"
   ]
  },
  {
   "cell_type": "markdown",
   "metadata": {},
   "source": [
    "__Q2e.__ What is the expected difference between the BMI of a 40 year-old non-Hispanic black man and a 30 year-old non-Hispanic black man?"
   ]
  },
  {
   "cell_type": "markdown",
   "metadata": {},
   "source": [
    "0.4805 * 10"
   ]
  },
  {
   "cell_type": "markdown",
   "metadata": {},
   "source": [
    "__Q2f.__ What is the expected difference between the BMI of a 50 year-old Mexican American woman and a 50 year-old non-Hispanic black man?"
   ]
  },
  {
   "cell_type": "markdown",
   "metadata": {},
   "source": [
    "Can't say!"
   ]
  },
  {
   "cell_type": "markdown",
   "metadata": {},
   "source": [
    "## Question 3: \n",
    "\n",
    "Randomly sample 25% of the NHANES data, then fit the same model you used in question 2 to this data set."
   ]
  },
  {
   "cell_type": "code",
   "execution_count": 11,
   "metadata": {},
   "outputs": [],
   "source": [
    "# enter your code here\n",
    "\n",
    "da25 = da.sample(frac=0.25)"
   ]
  },
  {
   "cell_type": "code",
   "execution_count": 12,
   "metadata": {},
   "outputs": [
    {
     "data": {
      "text/html": [
       "<table class=\"simpletable\">\n",
       "<caption>OLS Regression Results</caption>\n",
       "<tr>\n",
       "  <th>Dep. Variable:</th>         <td>BPXSY1</td>      <th>  R-squared:         </th> <td>   0.232</td> \n",
       "</tr>\n",
       "<tr>\n",
       "  <th>Model:</th>                   <td>OLS</td>       <th>  Adj. R-squared:    </th> <td>   0.228</td> \n",
       "</tr>\n",
       "<tr>\n",
       "  <th>Method:</th>             <td>Least Squares</td>  <th>  F-statistic:       </th> <td>   63.89</td> \n",
       "</tr>\n",
       "<tr>\n",
       "  <th>Date:</th>             <td>Wed, 17 Jun 2020</td> <th>  Prob (F-statistic):</th> <td>2.00e-69</td> \n",
       "</tr>\n",
       "<tr>\n",
       "  <th>Time:</th>                 <td>12:23:57</td>     <th>  Log-Likelihood:    </th> <td> -5399.9</td> \n",
       "</tr>\n",
       "<tr>\n",
       "  <th>No. Observations:</th>      <td>  1276</td>      <th>  AIC:               </th> <td>1.081e+04</td>\n",
       "</tr>\n",
       "<tr>\n",
       "  <th>Df Residuals:</th>          <td>  1269</td>      <th>  BIC:               </th> <td>1.085e+04</td>\n",
       "</tr>\n",
       "<tr>\n",
       "  <th>Df Model:</th>              <td>     6</td>      <th>                     </th>     <td> </td>    \n",
       "</tr>\n",
       "<tr>\n",
       "  <th>Covariance Type:</th>      <td>nonrobust</td>    <th>                     </th>     <td> </td>    \n",
       "</tr>\n",
       "</table>\n",
       "<table class=\"simpletable\">\n",
       "<tr>\n",
       "                          <td></td>                            <th>coef</th>     <th>std err</th>      <th>t</th>      <th>P>|t|</th>  <th>[0.025</th>    <th>0.975]</th>  \n",
       "</tr>\n",
       "<tr>\n",
       "  <th>Intercept</th>                                        <td>   98.5875</td> <td>    1.741</td> <td>   56.624</td> <td> 0.000</td> <td>   95.172</td> <td>  102.003</td>\n",
       "</tr>\n",
       "<tr>\n",
       "  <th>RIAGENDRx[T.Male]</th>                                <td>    3.9506</td> <td>    0.937</td> <td>    4.216</td> <td> 0.000</td> <td>    2.112</td> <td>    5.789</td>\n",
       "</tr>\n",
       "<tr>\n",
       "  <th>RIDRETH1x[T.Non-Hispanic Black]</th>                  <td>    4.7748</td> <td>    1.532</td> <td>    3.117</td> <td> 0.002</td> <td>    1.770</td> <td>    7.780</td>\n",
       "</tr>\n",
       "<tr>\n",
       "  <th>RIDRETH1x[T.Non-Hispanic White]</th>                  <td>   -0.0604</td> <td>    1.429</td> <td>   -0.042</td> <td> 0.966</td> <td>   -2.864</td> <td>    2.744</td>\n",
       "</tr>\n",
       "<tr>\n",
       "  <th>RIDRETH1x[T.Other Hispanic]</th>                      <td>    4.3386</td> <td>    1.725</td> <td>    2.515</td> <td> 0.012</td> <td>    0.954</td> <td>    7.723</td>\n",
       "</tr>\n",
       "<tr>\n",
       "  <th>RIDRETH1x[T.Other Race - Including Multi-Racial]</th> <td>   -0.7913</td> <td>    1.673</td> <td>   -0.473</td> <td> 0.636</td> <td>   -4.073</td> <td>    2.490</td>\n",
       "</tr>\n",
       "<tr>\n",
       "  <th>RIDAGEYR</th>                                         <td>    0.4887</td> <td>    0.027</td> <td>   18.338</td> <td> 0.000</td> <td>    0.436</td> <td>    0.541</td>\n",
       "</tr>\n",
       "</table>\n",
       "<table class=\"simpletable\">\n",
       "<tr>\n",
       "  <th>Omnibus:</th>       <td>206.028</td> <th>  Durbin-Watson:     </th> <td>   2.027</td> \n",
       "</tr>\n",
       "<tr>\n",
       "  <th>Prob(Omnibus):</th> <td> 0.000</td>  <th>  Jarque-Bera (JB):  </th> <td> 495.469</td> \n",
       "</tr>\n",
       "<tr>\n",
       "  <th>Skew:</th>          <td> 0.885</td>  <th>  Prob(JB):          </th> <td>2.57e-108</td>\n",
       "</tr>\n",
       "<tr>\n",
       "  <th>Kurtosis:</th>      <td> 5.487</td>  <th>  Cond. No.          </th> <td>    316.</td> \n",
       "</tr>\n",
       "</table><br/><br/>Warnings:<br/>[1] Standard Errors assume that the covariance matrix of the errors is correctly specified."
      ],
      "text/plain": [
       "<class 'statsmodels.iolib.summary.Summary'>\n",
       "\"\"\"\n",
       "                            OLS Regression Results                            \n",
       "==============================================================================\n",
       "Dep. Variable:                 BPXSY1   R-squared:                       0.232\n",
       "Model:                            OLS   Adj. R-squared:                  0.228\n",
       "Method:                 Least Squares   F-statistic:                     63.89\n",
       "Date:                Wed, 17 Jun 2020   Prob (F-statistic):           2.00e-69\n",
       "Time:                        12:23:57   Log-Likelihood:                -5399.9\n",
       "No. Observations:                1276   AIC:                         1.081e+04\n",
       "Df Residuals:                    1269   BIC:                         1.085e+04\n",
       "Df Model:                           6                                         \n",
       "Covariance Type:            nonrobust                                         \n",
       "====================================================================================================================\n",
       "                                                       coef    std err          t      P>|t|      [0.025      0.975]\n",
       "--------------------------------------------------------------------------------------------------------------------\n",
       "Intercept                                           98.5875      1.741     56.624      0.000      95.172     102.003\n",
       "RIAGENDRx[T.Male]                                    3.9506      0.937      4.216      0.000       2.112       5.789\n",
       "RIDRETH1x[T.Non-Hispanic Black]                      4.7748      1.532      3.117      0.002       1.770       7.780\n",
       "RIDRETH1x[T.Non-Hispanic White]                     -0.0604      1.429     -0.042      0.966      -2.864       2.744\n",
       "RIDRETH1x[T.Other Hispanic]                          4.3386      1.725      2.515      0.012       0.954       7.723\n",
       "RIDRETH1x[T.Other Race - Including Multi-Racial]    -0.7913      1.673     -0.473      0.636      -4.073       2.490\n",
       "RIDAGEYR                                             0.4887      0.027     18.338      0.000       0.436       0.541\n",
       "==============================================================================\n",
       "Omnibus:                      206.028   Durbin-Watson:                   2.027\n",
       "Prob(Omnibus):                  0.000   Jarque-Bera (JB):              495.469\n",
       "Skew:                           0.885   Prob(JB):                    2.57e-108\n",
       "Kurtosis:                       5.487   Cond. No.                         316.\n",
       "==============================================================================\n",
       "\n",
       "Warnings:\n",
       "[1] Standard Errors assume that the covariance matrix of the errors is correctly specified.\n",
       "\"\"\""
      ]
     },
     "execution_count": 12,
     "metadata": {},
     "output_type": "execute_result"
    }
   ],
   "source": [
    "model = sm.OLS.from_formula(\"BPXSY1 ~ RIDAGEYR + RIAGENDRx + RIDRETH1x\", data=da25)\n",
    "result = model.fit()\n",
    "result.summary()"
   ]
  },
  {
   "cell_type": "code",
   "execution_count": null,
   "metadata": {},
   "outputs": [],
   "source": []
  },
  {
   "cell_type": "markdown",
   "metadata": {},
   "source": [
    "__Q3a.__ How do the estimated regression coefficients and their standard errors compare between these two models?  Do you see any systematic relationship between the two sets of results?"
   ]
  },
  {
   "cell_type": "markdown",
   "metadata": {},
   "source": [
    "standard errors increased, coefficients reduced."
   ]
  },
  {
   "cell_type": "markdown",
   "metadata": {},
   "source": [
    "## Question 4:\n",
    "\n",
    "Generate a scatterplot of the residuals against the fitted values for the model you fit in question 2."
   ]
  },
  {
   "cell_type": "code",
   "execution_count": 13,
   "metadata": {},
   "outputs": [
    {
     "data": {
      "text/html": [
       "<table class=\"simpletable\">\n",
       "<caption>OLS Regression Results</caption>\n",
       "<tr>\n",
       "  <th>Dep. Variable:</th>         <td>BPXSY1</td>      <th>  R-squared:         </th> <td>   0.230</td> \n",
       "</tr>\n",
       "<tr>\n",
       "  <th>Model:</th>                   <td>OLS</td>       <th>  Adj. R-squared:    </th> <td>   0.229</td> \n",
       "</tr>\n",
       "<tr>\n",
       "  <th>Method:</th>             <td>Least Squares</td>  <th>  F-statistic:       </th> <td>   253.1</td> \n",
       "</tr>\n",
       "<tr>\n",
       "  <th>Date:</th>             <td>Wed, 17 Jun 2020</td> <th>  Prob (F-statistic):</th> <td>4.26e-284</td>\n",
       "</tr>\n",
       "<tr>\n",
       "  <th>Time:</th>                 <td>12:23:58</td>     <th>  Log-Likelihood:    </th> <td> -21456.</td> \n",
       "</tr>\n",
       "<tr>\n",
       "  <th>No. Observations:</th>      <td>  5102</td>      <th>  AIC:               </th> <td>4.293e+04</td>\n",
       "</tr>\n",
       "<tr>\n",
       "  <th>Df Residuals:</th>          <td>  5095</td>      <th>  BIC:               </th> <td>4.297e+04</td>\n",
       "</tr>\n",
       "<tr>\n",
       "  <th>Df Model:</th>              <td>     6</td>      <th>                     </th>     <td> </td>    \n",
       "</tr>\n",
       "<tr>\n",
       "  <th>Covariance Type:</th>      <td>nonrobust</td>    <th>                     </th>     <td> </td>    \n",
       "</tr>\n",
       "</table>\n",
       "<table class=\"simpletable\">\n",
       "<tr>\n",
       "                          <td></td>                            <th>coef</th>     <th>std err</th>      <th>t</th>      <th>P>|t|</th>  <th>[0.025</th>    <th>0.975]</th>  \n",
       "</tr>\n",
       "<tr>\n",
       "  <th>Intercept</th>                                        <td>  100.4207</td> <td>    0.850</td> <td>  118.135</td> <td> 0.000</td> <td>   98.754</td> <td>  102.087</td>\n",
       "</tr>\n",
       "<tr>\n",
       "  <th>RIAGENDRx[T.Male]</th>                                <td>    3.3870</td> <td>    0.456</td> <td>    7.435</td> <td> 0.000</td> <td>    2.494</td> <td>    4.280</td>\n",
       "</tr>\n",
       "<tr>\n",
       "  <th>RIDRETH1x[T.Non-Hispanic Black]</th>                  <td>    3.6882</td> <td>    0.737</td> <td>    5.004</td> <td> 0.000</td> <td>    2.243</td> <td>    5.133</td>\n",
       "</tr>\n",
       "<tr>\n",
       "  <th>RIDRETH1x[T.Non-Hispanic White]</th>                  <td>   -2.3120</td> <td>    0.674</td> <td>   -3.432</td> <td> 0.001</td> <td>   -3.633</td> <td>   -0.991</td>\n",
       "</tr>\n",
       "<tr>\n",
       "  <th>RIDRETH1x[T.Other Hispanic]</th>                      <td>    0.5947</td> <td>    0.824</td> <td>    0.721</td> <td> 0.471</td> <td>   -1.021</td> <td>    2.211</td>\n",
       "</tr>\n",
       "<tr>\n",
       "  <th>RIDRETH1x[T.Other Race - Including Multi-Racial]</th> <td>   -1.7842</td> <td>    0.798</td> <td>   -2.235</td> <td> 0.025</td> <td>   -3.350</td> <td>   -0.219</td>\n",
       "</tr>\n",
       "<tr>\n",
       "  <th>RIDAGEYR</th>                                         <td>    0.4805</td> <td>    0.013</td> <td>   37.001</td> <td> 0.000</td> <td>    0.455</td> <td>    0.506</td>\n",
       "</tr>\n",
       "</table>\n",
       "<table class=\"simpletable\">\n",
       "<tr>\n",
       "  <th>Omnibus:</th>       <td>692.818</td> <th>  Durbin-Watson:     </th> <td>   2.037</td>\n",
       "</tr>\n",
       "<tr>\n",
       "  <th>Prob(Omnibus):</th> <td> 0.000</td>  <th>  Jarque-Bera (JB):  </th> <td>1536.495</td>\n",
       "</tr>\n",
       "<tr>\n",
       "  <th>Skew:</th>          <td> 0.807</td>  <th>  Prob(JB):          </th> <td>    0.00</td>\n",
       "</tr>\n",
       "<tr>\n",
       "  <th>Kurtosis:</th>      <td> 5.150</td>  <th>  Cond. No.          </th> <td>    308.</td>\n",
       "</tr>\n",
       "</table><br/><br/>Warnings:<br/>[1] Standard Errors assume that the covariance matrix of the errors is correctly specified."
      ],
      "text/plain": [
       "<class 'statsmodels.iolib.summary.Summary'>\n",
       "\"\"\"\n",
       "                            OLS Regression Results                            \n",
       "==============================================================================\n",
       "Dep. Variable:                 BPXSY1   R-squared:                       0.230\n",
       "Model:                            OLS   Adj. R-squared:                  0.229\n",
       "Method:                 Least Squares   F-statistic:                     253.1\n",
       "Date:                Wed, 17 Jun 2020   Prob (F-statistic):          4.26e-284\n",
       "Time:                        12:23:58   Log-Likelihood:                -21456.\n",
       "No. Observations:                5102   AIC:                         4.293e+04\n",
       "Df Residuals:                    5095   BIC:                         4.297e+04\n",
       "Df Model:                           6                                         \n",
       "Covariance Type:            nonrobust                                         \n",
       "====================================================================================================================\n",
       "                                                       coef    std err          t      P>|t|      [0.025      0.975]\n",
       "--------------------------------------------------------------------------------------------------------------------\n",
       "Intercept                                          100.4207      0.850    118.135      0.000      98.754     102.087\n",
       "RIAGENDRx[T.Male]                                    3.3870      0.456      7.435      0.000       2.494       4.280\n",
       "RIDRETH1x[T.Non-Hispanic Black]                      3.6882      0.737      5.004      0.000       2.243       5.133\n",
       "RIDRETH1x[T.Non-Hispanic White]                     -2.3120      0.674     -3.432      0.001      -3.633      -0.991\n",
       "RIDRETH1x[T.Other Hispanic]                          0.5947      0.824      0.721      0.471      -1.021       2.211\n",
       "RIDRETH1x[T.Other Race - Including Multi-Racial]    -1.7842      0.798     -2.235      0.025      -3.350      -0.219\n",
       "RIDAGEYR                                             0.4805      0.013     37.001      0.000       0.455       0.506\n",
       "==============================================================================\n",
       "Omnibus:                      692.818   Durbin-Watson:                   2.037\n",
       "Prob(Omnibus):                  0.000   Jarque-Bera (JB):             1536.495\n",
       "Skew:                           0.807   Prob(JB):                         0.00\n",
       "Kurtosis:                       5.150   Cond. No.                         308.\n",
       "==============================================================================\n",
       "\n",
       "Warnings:\n",
       "[1] Standard Errors assume that the covariance matrix of the errors is correctly specified.\n",
       "\"\"\""
      ]
     },
     "execution_count": 13,
     "metadata": {},
     "output_type": "execute_result"
    }
   ],
   "source": [
    "model = sm.OLS.from_formula(\"BPXSY1 ~ RIDAGEYR + RIAGENDRx + RIDRETH1x\", data=da)\n",
    "result = model.fit()\n",
    "result.summary()"
   ]
  },
  {
   "cell_type": "code",
   "execution_count": 14,
   "metadata": {},
   "outputs": [
    {
     "data": {
      "image/png": "[encoded data removed]",
      "text/plain": [
       "<Figure size 432x288 with 1 Axes>"
      ]
     },
     "metadata": {},
     "output_type": "display_data"
    }
   ],
   "source": [
    "pp = sns.scatterplot(result.fittedvalues, result.resid)\n",
    "pp.set_xlabel(\"Fitted values\")\n",
    "_ = pp.set_ylabel(\"Residuals\")"
   ]
  },
  {
   "cell_type": "markdown",
   "metadata": {},
   "source": [
    "__Q4a.__ What mean/variance relationship do you see?"
   ]
  },
  {
   "cell_type": "markdown",
   "metadata": {},
   "source": [
    "As the fitted value increases, the variance increase."
   ]
  },
  {
   "cell_type": "markdown",
   "metadata": {},
   "source": [
    "## Question 5: \n",
    "\n",
    "Generate a plot showing the fitted mean BMI as a function of age for Mexican American men.  Include a 95% simultaneous confidence band on your graph."
   ]
  },
  {
   "cell_type": "code",
   "execution_count": 15,
   "metadata": {},
   "outputs": [
    {
     "data": {
      "text/plain": [
       "Non-Hispanic White                     1692\n",
       "Non-Hispanic Black                     1058\n",
       "Mexican American                        896\n",
       "Other Race - Including Multi-Racial     771\n",
       "Other Hispanic                          685\n",
       "Name: RIDRETH1x, dtype: int64"
      ]
     },
     "execution_count": 15,
     "metadata": {},
     "output_type": "execute_result"
    }
   ],
   "source": [
    "da['RIDRETH1x'].value_counts()"
   ]
  },
  {
   "cell_type": "code",
   "execution_count": 16,
   "metadata": {},
   "outputs": [
    {
     "data": {
      "text/plain": [
       "Index(['BPXSY1', 'RIDAGEYR', 'RIAGENDR', 'RIDRETH1', 'DMDEDUC2', 'BMXBMI',\n",
       "       'SMQ020', 'RIDRETH1x', 'RIAGENDRx'],\n",
       "      dtype='object')"
      ]
     },
     "execution_count": 16,
     "metadata": {},
     "output_type": "execute_result"
    }
   ],
   "source": [
    "da.columns #'BMXBMI' ~ 'RIDAGEYR'"
   ]
  },
  {
   "cell_type": "code",
   "execution_count": 17,
   "metadata": {},
   "outputs": [
    {
     "data": {
      "text/html": [
       "<table class=\"simpletable\">\n",
       "<caption>OLS Regression Results</caption>\n",
       "<tr>\n",
       "  <th>Dep. Variable:</th>         <td>BMXBMI</td>      <th>  R-squared:         </th> <td>   0.055</td> \n",
       "</tr>\n",
       "<tr>\n",
       "  <th>Model:</th>                   <td>OLS</td>       <th>  Adj. R-squared:    </th> <td>   0.054</td> \n",
       "</tr>\n",
       "<tr>\n",
       "  <th>Method:</th>             <td>Least Squares</td>  <th>  F-statistic:       </th> <td>   49.27</td> \n",
       "</tr>\n",
       "<tr>\n",
       "  <th>Date:</th>             <td>Wed, 17 Jun 2020</td> <th>  Prob (F-statistic):</th> <td>3.98e-59</td> \n",
       "</tr>\n",
       "<tr>\n",
       "  <th>Time:</th>                 <td>12:23:59</td>     <th>  Log-Likelihood:    </th> <td> -17007.</td> \n",
       "</tr>\n",
       "<tr>\n",
       "  <th>No. Observations:</th>      <td>  5102</td>      <th>  AIC:               </th> <td>3.403e+04</td>\n",
       "</tr>\n",
       "<tr>\n",
       "  <th>Df Residuals:</th>          <td>  5095</td>      <th>  BIC:               </th> <td>3.407e+04</td>\n",
       "</tr>\n",
       "<tr>\n",
       "  <th>Df Model:</th>              <td>     6</td>      <th>                     </th>     <td> </td>    \n",
       "</tr>\n",
       "<tr>\n",
       "  <th>Covariance Type:</th>      <td>nonrobust</td>    <th>                     </th>     <td> </td>    \n",
       "</tr>\n",
       "</table>\n",
       "<table class=\"simpletable\">\n",
       "<tr>\n",
       "                          <td></td>                            <th>coef</th>     <th>std err</th>      <th>t</th>      <th>P>|t|</th>  <th>[0.025</th>    <th>0.975]</th>  \n",
       "</tr>\n",
       "<tr>\n",
       "  <th>Intercept</th>                                        <td>   31.2361</td> <td>    0.355</td> <td>   87.891</td> <td> 0.000</td> <td>   30.539</td> <td>   31.933</td>\n",
       "</tr>\n",
       "<tr>\n",
       "  <th>RIAGENDRx[T.Male]</th>                                <td>   -1.0226</td> <td>    0.190</td> <td>   -5.370</td> <td> 0.000</td> <td>   -1.396</td> <td>   -0.649</td>\n",
       "</tr>\n",
       "<tr>\n",
       "  <th>RIDRETH1x[T.Non-Hispanic Black]</th>                  <td>   -0.4499</td> <td>    0.308</td> <td>   -1.460</td> <td> 0.144</td> <td>   -1.054</td> <td>    0.154</td>\n",
       "</tr>\n",
       "<tr>\n",
       "  <th>RIDRETH1x[T.Non-Hispanic White]</th>                  <td>   -1.8555</td> <td>    0.282</td> <td>   -6.588</td> <td> 0.000</td> <td>   -2.408</td> <td>   -1.303</td>\n",
       "</tr>\n",
       "<tr>\n",
       "  <th>RIDRETH1x[T.Other Hispanic]</th>                      <td>   -0.9379</td> <td>    0.345</td> <td>   -2.721</td> <td> 0.007</td> <td>   -1.614</td> <td>   -0.262</td>\n",
       "</tr>\n",
       "<tr>\n",
       "  <th>RIDRETH1x[T.Other Race - Including Multi-Racial]</th> <td>   -4.7799</td> <td>    0.334</td> <td>  -14.318</td> <td> 0.000</td> <td>   -5.434</td> <td>   -4.125</td>\n",
       "</tr>\n",
       "<tr>\n",
       "  <th>RIDAGEYR</th>                                         <td>    0.0065</td> <td>    0.005</td> <td>    1.196</td> <td> 0.232</td> <td>   -0.004</td> <td>    0.017</td>\n",
       "</tr>\n",
       "</table>\n",
       "<table class=\"simpletable\">\n",
       "<tr>\n",
       "  <th>Omnibus:</th>       <td>917.090</td> <th>  Durbin-Watson:     </th> <td>   2.006</td>\n",
       "</tr>\n",
       "<tr>\n",
       "  <th>Prob(Omnibus):</th> <td> 0.000</td>  <th>  Jarque-Bera (JB):  </th> <td>1855.286</td>\n",
       "</tr>\n",
       "<tr>\n",
       "  <th>Skew:</th>          <td> 1.075</td>  <th>  Prob(JB):          </th> <td>    0.00</td>\n",
       "</tr>\n",
       "<tr>\n",
       "  <th>Kurtosis:</th>      <td> 5.026</td>  <th>  Cond. No.          </th> <td>    308.</td>\n",
       "</tr>\n",
       "</table><br/><br/>Warnings:<br/>[1] Standard Errors assume that the covariance matrix of the errors is correctly specified."
      ],
      "text/plain": [
       "<class 'statsmodels.iolib.summary.Summary'>\n",
       "\"\"\"\n",
       "                            OLS Regression Results                            \n",
       "==============================================================================\n",
       "Dep. Variable:                 BMXBMI   R-squared:                       0.055\n",
       "Model:                            OLS   Adj. R-squared:                  0.054\n",
       "Method:                 Least Squares   F-statistic:                     49.27\n",
       "Date:                Wed, 17 Jun 2020   Prob (F-statistic):           3.98e-59\n",
       "Time:                        12:23:59   Log-Likelihood:                -17007.\n",
       "No. Observations:                5102   AIC:                         3.403e+04\n",
       "Df Residuals:                    5095   BIC:                         3.407e+04\n",
       "Df Model:                           6                                         \n",
       "Covariance Type:            nonrobust                                         \n",
       "====================================================================================================================\n",
       "                                                       coef    std err          t      P>|t|      [0.025      0.975]\n",
       "--------------------------------------------------------------------------------------------------------------------\n",
       "Intercept                                           31.2361      0.355     87.891      0.000      30.539      31.933\n",
       "RIAGENDRx[T.Male]                                   -1.0226      0.190     -5.370      0.000      -1.396      -0.649\n",
       "RIDRETH1x[T.Non-Hispanic Black]                     -0.4499      0.308     -1.460      0.144      -1.054       0.154\n",
       "RIDRETH1x[T.Non-Hispanic White]                     -1.8555      0.282     -6.588      0.000      -2.408      -1.303\n",
       "RIDRETH1x[T.Other Hispanic]                         -0.9379      0.345     -2.721      0.007      -1.614      -0.262\n",
       "RIDRETH1x[T.Other Race - Including Multi-Racial]    -4.7799      0.334    -14.318      0.000      -5.434      -4.125\n",
       "RIDAGEYR                                             0.0065      0.005      1.196      0.232      -0.004       0.017\n",
       "==============================================================================\n",
       "Omnibus:                      917.090   Durbin-Watson:                   2.006\n",
       "Prob(Omnibus):                  0.000   Jarque-Bera (JB):             1855.286\n",
       "Skew:                           1.075   Prob(JB):                         0.00\n",
       "Kurtosis:                       5.026   Cond. No.                         308.\n",
       "==============================================================================\n",
       "\n",
       "Warnings:\n",
       "[1] Standard Errors assume that the covariance matrix of the errors is correctly specified.\n",
       "\"\"\""
      ]
     },
     "execution_count": 17,
     "metadata": {},
     "output_type": "execute_result"
    }
   ],
   "source": [
    "model = sm.OLS.from_formula(\"BMXBMI ~ RIDAGEYR + RIAGENDRx + RIDRETH1x\", data=da)\n",
    "result = model.fit()\n",
    "result.summary()"
   ]
  },
  {
   "cell_type": "code",
   "execution_count": 18,
   "metadata": {},
   "outputs": [
    {
     "name": "stderr",
     "output_type": "stream",
     "text": [
      "/opt/conda/lib/python3.6/site-packages/statsmodels/sandbox/predict_functional.py:171: ValueWarning: 'BPXSY1', 'DMDEDUC2', 'RIAGENDR', 'RIDRETH1', 'SMQ020' in data frame but not in summaries or values.\n",
      "  ValueWarning)\n"
     ]
    },
    {
     "data": {
      "image/png": "[encoded data removed]",
      "text/plain": [
       "<Figure size 432x288 with 1 Axes>"
      ]
     },
     "metadata": {},
     "output_type": "display_data"
    }
   ],
   "source": [
    "from statsmodels.sandbox.predict_functional import predict_functional\n",
    "\n",
    "values = {\"RIAGENDRx\": \"Male\", \"RIDRETH1x\": \"Mexican American\"}\n",
    "\n",
    "# The returned values are the predicted values (pr), the confidence bands (cb),\n",
    "# and the function values (fv).\n",
    "pr, cb, fv = predict_functional(result, \"RIDAGEYR\",\n",
    "                values=values, ci_method=\"simultaneous\")\n",
    "\n",
    "ax = sns.lineplot(fv, pr, lw=4)\n",
    "ax.fill_between(fv, cb[:, 0], cb[:, 1], color='grey', alpha=0.4)\n",
    "ax.set_xlabel(\"Age\")\n",
    "_ = ax.set_ylabel(\"BMI\")"
   ]
  },
  {
   "cell_type": "markdown",
   "metadata": {},
   "source": [
    "__Q5a.__ According to your graph, what is the longest interval starting at year 30 following which the mean BMI could be constant?  *Hint:* What is the longest horizontal line starting at age 30 that remains within the confidence band?"
   ]
  },
  {
   "cell_type": "markdown",
   "metadata": {},
   "source": []
  },
  {
   "cell_type": "markdown",
   "metadata": {},
   "source": [
    "__Q5b.__ Add an additional line and confidence band to the same plot, showing the relationship between age and BMI for Mexican American women.  At what ages do these intervals not overlap?"
   ]
  },
  {
   "cell_type": "code",
   "execution_count": 19,
   "metadata": {},
   "outputs": [
    {
     "name": "stderr",
     "output_type": "stream",
     "text": [
      "/opt/conda/lib/python3.6/site-packages/statsmodels/sandbox/predict_functional.py:171: ValueWarning: 'BPXSY1', 'DMDEDUC2', 'RIAGENDR', 'RIDRETH1', 'SMQ020' in data frame but not in summaries or values.\n",
      "  ValueWarning)\n",
      "/opt/conda/lib/python3.6/site-packages/statsmodels/sandbox/predict_functional.py:171: ValueWarning: 'BPXSY1', 'DMDEDUC2', 'RIAGENDR', 'RIDRETH1', 'SMQ020' in data frame but not in summaries or values.\n",
      "  ValueWarning)\n"
     ]
    },
    {
     "data": {
      "image/png": "[encoded data removed]",
      "text/plain": [
       "<Figure size 432x288 with 1 Axes>"
      ]
     },
     "metadata": {},
     "output_type": "display_data"
    }
   ],
   "source": [
    "from statsmodels.sandbox.predict_functional import predict_functional\n",
    "\n",
    "values = {\"RIAGENDRx\": \"Male\", \"RIDRETH1x\": \"Mexican American\"}\n",
    "\n",
    "# The returned values are the predicted values (pr), the confidence bands (cb),\n",
    "# and the function values (fv).\n",
    "pr, cb, fv = predict_functional(result, \"RIDAGEYR\",\n",
    "                values=values, ci_method=\"simultaneous\")\n",
    "\n",
    "ax = sns.lineplot(fv, pr, lw=4)\n",
    "ax.fill_between(fv, cb[:, 0], cb[:, 1], color='grey', alpha=0.4)\n",
    "ax.set_xlabel(\"Age\")\n",
    "_ = ax.set_ylabel(\"BMI\")\n",
    "\n",
    "values = {\"RIAGENDRx\": \"Female\", \"RIDRETH1x\": \"Mexican American\"}\n",
    "\n",
    "# The returned values are the predicted values (pr), the confidence bands (cb),\n",
    "# and the function values (fv).\n",
    "pr, cb, fv = predict_functional(result, \"RIDAGEYR\",\n",
    "                values=values, ci_method=\"simultaneous\")\n",
    "\n",
    "ax = sns.lineplot(fv, pr, lw=4)\n",
    "ax.fill_between(fv, cb[:, 0], cb[:, 1], color='grey', alpha=0.4)\n",
    "ax.set_xlabel(\"Age\")\n",
    "_ = ax.set_ylabel(\"BMI\")"
   ]
  },
  {
   "cell_type": "code",
   "execution_count": 20,
   "metadata": {},
   "outputs": [],
   "source": [
    "#Intervals overlap on all the ages."
   ]
  },
  {
   "cell_type": "markdown",
   "metadata": {},
   "source": []
  },
  {
   "cell_type": "markdown",
   "metadata": {},
   "source": [
    "## Question 6:\n",
    "\n",
    "Use an added variable plot to assess the linearity of the relationship between BMI and age (when controlling for gender and ethnicity)."
   ]
  },
  {
   "cell_type": "code",
   "execution_count": 21,
   "metadata": {},
   "outputs": [
    {
     "data": {
      "image/png": "[encoded data removed]",
      "text/plain": [
       "<Figure size 432x288 with 1 Axes>"
      ]
     },
     "metadata": {},
     "output_type": "display_data"
    }
   ],
   "source": [
    "# This is not part of the main Statsmodels API, so needs to be imported separately\n",
    "from statsmodels.graphics.regressionplots import add_lowess\n",
    "\n",
    "# This is an equivalent way to fit a linear regression model, it needs to be\n",
    "# done this way to be able to make the added variable plot\n",
    "model = sm.GLM.from_formula(\"BMXBMI ~ RIDAGEYR + RIAGENDRx + RIDRETH1x\", data=da)\n",
    "result = model.fit()\n",
    "result.summary()\n",
    "\n",
    "fig = result.plot_added_variable(\"RIDAGEYR\")\n",
    "ax = fig.get_axes()[0]\n",
    "ax.lines[0].set_alpha(0.2)\n",
    "_ = add_lowess(ax)"
   ]
  },
  {
   "cell_type": "markdown",
   "metadata": {},
   "source": [
    "__Q6a.__ What is your interpretation of the added variable plot?"
   ]
  },
  {
   "cell_type": "markdown",
   "metadata": {},
   "source": [
    "BMI doesn't depend a on the age variable here since it is a flat line in this case. "
   ]
  },
  {
   "cell_type": "markdown",
   "metadata": {},
   "source": [
    "## Question 7: \n",
    "\n",
    "Generate a binary variable reflecting whether a person has had at least 12 drinks in their lifetime, based on the [ALQ110](https://wwwn.cdc.gov/Nchs/Nhanes/2015-2016/ALQ_I.htm#ALQ110) variable in NHANES.  Calculate the marginal probability, odds, and log odds of this variable for women and for men.  Then calculate the odds ratio for females relative to males."
   ]
  },
  {
   "cell_type": "code",
   "execution_count": 27,
   "metadata": {},
   "outputs": [
    {
     "data": {
      "text/plain": [
       "Index(['BPXSY1', 'RIDAGEYR', 'RIAGENDR', 'RIDRETH1', 'DMDEDUC2', 'BMXBMI',\n",
       "       'SMQ020', 'RIDRETH1x', 'RIAGENDRx'],\n",
       "      dtype='object')"
      ]
     },
     "execution_count": 27,
     "metadata": {},
     "output_type": "execute_result"
    }
   ],
   "source": [
    "da.columns"
   ]
  },
  {
   "cell_type": "code",
   "execution_count": 28,
   "metadata": {},
   "outputs": [],
   "source": [
    "url = \"https://raw.githubusercontent.com/kshedden/statswpy/master/NHANES/merged/nhanes_2015_2016.csv\"\n",
    "da = pd.read_csv(url)"
   ]
  },
  {
   "cell_type": "code",
   "execution_count": null,
   "metadata": {},
   "outputs": [],
   "source": [
    "\n",
    "1:\"Less than 9th grade\"\n",
    "2:\"9-11th grade (Includes 12th grade with no diploma)\"\n",
    "3:\"High school graduate/GED or equivalent\"\n",
    "4:\"Some college or AA degree\"\n",
    "5:\"College graduate or above\"\n",
    "7:\"Refused\"\n",
    "9:\"Don't Know\"\n"
   ]
  },
  {
   "cell_type": "code",
   "execution_count": 33,
   "metadata": {},
   "outputs": [
    {
     "data": {
      "text/plain": [
       "5735"
      ]
     },
     "execution_count": 33,
     "metadata": {},
     "output_type": "execute_result"
    }
   ],
   "source": [
    "#age , gender and education\n",
    "# 'ALQ110' ~ 'RIAGENDR' +'RIDAGEYR' + 'DMDEDUC2'\n",
    "len(da[['ALQ110','RIAGENDR','RIDAGEYR', 'DMDEDUC2']]) #5735"
   ]
  },
  {
   "cell_type": "code",
   "execution_count": 51,
   "metadata": {},
   "outputs": [],
   "source": [
    "vars = ['ALQ110','RIAGENDR','RIDAGEYR', 'DMDEDUC2']\n",
    "da = da[vars].dropna()"
   ]
  },
  {
   "cell_type": "code",
   "execution_count": 52,
   "metadata": {},
   "outputs": [
    {
     "data": {
      "text/plain": [
       "1580"
      ]
     },
     "execution_count": 52,
     "metadata": {},
     "output_type": "execute_result"
    }
   ],
   "source": [
    "len(da) # alot of missing values, could have looked at them with more detail."
   ]
  },
  {
   "cell_type": "code",
   "execution_count": 43,
   "metadata": {},
   "outputs": [
    {
     "data": {
      "text/plain": [
       "2    1122\n",
       "1     458\n",
       "Name: RIAGENDR, dtype: int64"
      ]
     },
     "execution_count": 43,
     "metadata": {},
     "output_type": "execute_result"
    }
   ],
   "source": [
    "da.RIAGENDR.value_counts()"
   ]
  },
  {
   "cell_type": "code",
   "execution_count": 56,
   "metadata": {},
   "outputs": [],
   "source": [
    "# Create a labeled version of the gender variable\n",
    "da[\"RIAGENDRx\"] = da.RIAGENDR.replace({1: \"Male\", 2: \"Female\"})"
   ]
  },
  {
   "cell_type": "code",
   "execution_count": 57,
   "metadata": {},
   "outputs": [],
   "source": [
    "da['ALQ110x'] = da.ALQ110.replace({1:\"Yes\",\n",
    "2:\"No\",\n",
    "7: np.nan,\n",
    "9:np.nan})"
   ]
  },
  {
   "cell_type": "code",
   "execution_count": 53,
   "metadata": {},
   "outputs": [],
   "source": [
    "da = da.dropna()"
   ]
  },
  {
   "cell_type": "code",
   "execution_count": 58,
   "metadata": {},
   "outputs": [
    {
     "data": {
      "text/plain": [
       "1580"
      ]
     },
     "execution_count": 58,
     "metadata": {},
     "output_type": "execute_result"
    }
   ],
   "source": [
    "len(da)"
   ]
  },
  {
   "cell_type": "code",
   "execution_count": 59,
   "metadata": {},
   "outputs": [
    {
     "data": {
      "text/plain": [
       "No     863\n",
       "Yes    712\n",
       "Name: ALQ110x, dtype: int64"
      ]
     },
     "execution_count": 59,
     "metadata": {},
     "output_type": "execute_result"
    }
   ],
   "source": [
    "da.ALQ110x.value_counts()"
   ]
  },
  {
   "cell_type": "code",
   "execution_count": 60,
   "metadata": {},
   "outputs": [],
   "source": [
    "da['DMDEDUC2x'] = da.DMDEDUC2.replace({1:\"Less than 9th grade\",\n",
    "2:\"9-11th grade (Includes 12th grade with no diploma)\",\n",
    "3:\"High school graduate/GED or equivalent\",\n",
    "4:\"Some college or AA degree\",\n",
    "5:\"College graduate or above\",\n",
    "7:\"Refused\",\n",
    "9:\"Don't Know\"})"
   ]
  },
  {
   "cell_type": "code",
   "execution_count": 61,
   "metadata": {},
   "outputs": [
    {
     "data": {
      "text/plain": [
       "Some college or AA degree                             429\n",
       "College graduate or above                             340\n",
       "High school graduate/GED or equivalent                317\n",
       "Less than 9th grade                                   290\n",
       "9-11th grade (Includes 12th grade with no diploma)    202\n",
       "Don't Know                                              2\n",
       "Name: DMDEDUC2x, dtype: int64"
      ]
     },
     "execution_count": 61,
     "metadata": {},
     "output_type": "execute_result"
    }
   ],
   "source": [
    "da.DMDEDUC2x.value_counts()"
   ]
  },
  {
   "cell_type": "code",
   "execution_count": 62,
   "metadata": {},
   "outputs": [
    {
     "data": {
      "text/html": [
       "<div>\n",
       "<style scoped>\n",
       "    .dataframe tbody tr th:only-of-type {\n",
       "        vertical-align: middle;\n",
       "    }\n",
       "\n",
       "    .dataframe tbody tr th {\n",
       "        vertical-align: top;\n",
       "    }\n",
       "\n",
       "    .dataframe thead th {\n",
       "        text-align: right;\n",
       "    }\n",
       "</style>\n",
       "<table border=\"1\" class=\"dataframe\">\n",
       "  <thead>\n",
       "    <tr style=\"text-align: right;\">\n",
       "      <th>ALQ110x</th>\n",
       "      <th>No</th>\n",
       "      <th>Yes</th>\n",
       "    </tr>\n",
       "    <tr>\n",
       "      <th>RIAGENDRx</th>\n",
       "      <th></th>\n",
       "      <th></th>\n",
       "    </tr>\n",
       "  </thead>\n",
       "  <tbody>\n",
       "    <tr>\n",
       "      <th>Female</th>\n",
       "      <td>616</td>\n",
       "      <td>503</td>\n",
       "    </tr>\n",
       "    <tr>\n",
       "      <th>Male</th>\n",
       "      <td>247</td>\n",
       "      <td>209</td>\n",
       "    </tr>\n",
       "  </tbody>\n",
       "</table>\n",
       "</div>"
      ],
      "text/plain": [
       "ALQ110x     No  Yes\n",
       "RIAGENDRx          \n",
       "Female     616  503\n",
       "Male       247  209"
      ]
     },
     "execution_count": 62,
     "metadata": {},
     "output_type": "execute_result"
    }
   ],
   "source": [
    "pd.crosstab(da.RIAGENDRx, da.ALQ110x)"
   ]
  },
  {
   "cell_type": "code",
   "execution_count": 63,
   "metadata": {},
   "outputs": [],
   "source": [
    "c = pd.crosstab(da.RIAGENDRx, da.ALQ110x).apply(lambda x: x/x.sum(), axis=1)"
   ]
  },
  {
   "cell_type": "code",
   "execution_count": 65,
   "metadata": {},
   "outputs": [
    {
     "data": {
      "text/html": [
       "<div>\n",
       "<style scoped>\n",
       "    .dataframe tbody tr th:only-of-type {\n",
       "        vertical-align: middle;\n",
       "    }\n",
       "\n",
       "    .dataframe tbody tr th {\n",
       "        vertical-align: top;\n",
       "    }\n",
       "\n",
       "    .dataframe thead th {\n",
       "        text-align: right;\n",
       "    }\n",
       "</style>\n",
       "<table border=\"1\" class=\"dataframe\">\n",
       "  <thead>\n",
       "    <tr style=\"text-align: right;\">\n",
       "      <th>ALQ110x</th>\n",
       "      <th>No</th>\n",
       "      <th>Yes</th>\n",
       "    </tr>\n",
       "    <tr>\n",
       "      <th>RIAGENDRx</th>\n",
       "      <th></th>\n",
       "      <th></th>\n",
       "    </tr>\n",
       "  </thead>\n",
       "  <tbody>\n",
       "    <tr>\n",
       "      <th>Female</th>\n",
       "      <td>0.550492</td>\n",
       "      <td>0.449508</td>\n",
       "    </tr>\n",
       "    <tr>\n",
       "      <th>Male</th>\n",
       "      <td>0.541667</td>\n",
       "      <td>0.458333</td>\n",
       "    </tr>\n",
       "  </tbody>\n",
       "</table>\n",
       "</div>"
      ],
      "text/plain": [
       "ALQ110x          No       Yes\n",
       "RIAGENDRx                    \n",
       "Female     0.550492  0.449508\n",
       "Male       0.541667  0.458333"
      ]
     },
     "execution_count": 65,
     "metadata": {},
     "output_type": "execute_result"
    }
   ],
   "source": [
    "c"
   ]
  },
  {
   "cell_type": "code",
   "execution_count": 70,
   "metadata": {},
   "outputs": [
    {
     "data": {
      "text/plain": [
       "RIAGENDRx\n",
       "Female    0.449508\n",
       "Male      0.458333\n",
       "Name: Yes, dtype: float64"
      ]
     },
     "execution_count": 70,
     "metadata": {},
     "output_type": "execute_result"
    }
   ],
   "source": [
    "c.iloc[:,1]"
   ]
  },
  {
   "cell_type": "code",
   "execution_count": 71,
   "metadata": {},
   "outputs": [
    {
     "data": {
      "text/plain": [
       "RIAGENDRx\n",
       "Female    0.550492\n",
       "Male      0.541667\n",
       "Name: No, dtype: float64"
      ]
     },
     "execution_count": 71,
     "metadata": {},
     "output_type": "execute_result"
    }
   ],
   "source": [
    "c.iloc[:,0]"
   ]
  },
  {
   "cell_type": "code",
   "execution_count": 72,
   "metadata": {},
   "outputs": [
    {
     "data": {
      "text/html": [
       "<div>\n",
       "<style scoped>\n",
       "    .dataframe tbody tr th:only-of-type {\n",
       "        vertical-align: middle;\n",
       "    }\n",
       "\n",
       "    .dataframe tbody tr th {\n",
       "        vertical-align: top;\n",
       "    }\n",
       "\n",
       "    .dataframe thead th {\n",
       "        text-align: right;\n",
       "    }\n",
       "</style>\n",
       "<table border=\"1\" class=\"dataframe\">\n",
       "  <thead>\n",
       "    <tr style=\"text-align: right;\">\n",
       "      <th>ALQ110x</th>\n",
       "      <th>No</th>\n",
       "      <th>Yes</th>\n",
       "      <th>odds</th>\n",
       "    </tr>\n",
       "    <tr>\n",
       "      <th>RIAGENDRx</th>\n",
       "      <th></th>\n",
       "      <th></th>\n",
       "      <th></th>\n",
       "    </tr>\n",
       "  </thead>\n",
       "  <tbody>\n",
       "    <tr>\n",
       "      <th>Female</th>\n",
       "      <td>0.550492</td>\n",
       "      <td>0.449508</td>\n",
       "      <td>0.816558</td>\n",
       "    </tr>\n",
       "    <tr>\n",
       "      <th>Male</th>\n",
       "      <td>0.541667</td>\n",
       "      <td>0.458333</td>\n",
       "      <td>0.846154</td>\n",
       "    </tr>\n",
       "  </tbody>\n",
       "</table>\n",
       "</div>"
      ],
      "text/plain": [
       "ALQ110x          No       Yes      odds\n",
       "RIAGENDRx                              \n",
       "Female     0.550492  0.449508  0.816558\n",
       "Male       0.541667  0.458333  0.846154"
      ]
     },
     "execution_count": 72,
     "metadata": {},
     "output_type": "execute_result"
    }
   ],
   "source": [
    "c[\"odds\"] = c.iloc[:, 1] / c.iloc[:, 0]\n",
    "c"
   ]
  },
  {
   "cell_type": "code",
   "execution_count": 74,
   "metadata": {},
   "outputs": [
    {
     "data": {
      "text/plain": [
       "1.036244074017434"
      ]
     },
     "execution_count": 74,
     "metadata": {},
     "output_type": "execute_result"
    }
   ],
   "source": [
    "c.odds.Male / c.odds.Female"
   ]
  },
  {
   "cell_type": "code",
   "execution_count": 75,
   "metadata": {},
   "outputs": [
    {
     "data": {
      "text/html": [
       "<div>\n",
       "<style scoped>\n",
       "    .dataframe tbody tr th:only-of-type {\n",
       "        vertical-align: middle;\n",
       "    }\n",
       "\n",
       "    .dataframe tbody tr th {\n",
       "        vertical-align: top;\n",
       "    }\n",
       "\n",
       "    .dataframe thead th {\n",
       "        text-align: right;\n",
       "    }\n",
       "</style>\n",
       "<table border=\"1\" class=\"dataframe\">\n",
       "  <thead>\n",
       "    <tr style=\"text-align: right;\">\n",
       "      <th>ALQ110x</th>\n",
       "      <th>No</th>\n",
       "      <th>Yes</th>\n",
       "      <th>odds</th>\n",
       "      <th>logodds</th>\n",
       "    </tr>\n",
       "    <tr>\n",
       "      <th>RIAGENDRx</th>\n",
       "      <th></th>\n",
       "      <th></th>\n",
       "      <th></th>\n",
       "      <th></th>\n",
       "    </tr>\n",
       "  </thead>\n",
       "  <tbody>\n",
       "    <tr>\n",
       "      <th>Female</th>\n",
       "      <td>0.550492</td>\n",
       "      <td>0.449508</td>\n",
       "      <td>0.816558</td>\n",
       "      <td>-0.202657</td>\n",
       "    </tr>\n",
       "    <tr>\n",
       "      <th>Male</th>\n",
       "      <td>0.541667</td>\n",
       "      <td>0.458333</td>\n",
       "      <td>0.846154</td>\n",
       "      <td>-0.167054</td>\n",
       "    </tr>\n",
       "  </tbody>\n",
       "</table>\n",
       "</div>"
      ],
      "text/plain": [
       "ALQ110x          No       Yes      odds   logodds\n",
       "RIAGENDRx                                        \n",
       "Female     0.550492  0.449508  0.816558 -0.202657\n",
       "Male       0.541667  0.458333  0.846154 -0.167054"
      ]
     },
     "execution_count": 75,
     "metadata": {},
     "output_type": "execute_result"
    }
   ],
   "source": [
    "c[\"logodds\"] = np.log(c.odds)\n",
    "c"
   ]
  },
  {
   "cell_type": "markdown",
   "metadata": {},
   "source": [
    "__Q7a.__ Based on the log odds alone, do more than 50% of women drink alcohol?"
   ]
  },
  {
   "cell_type": "markdown",
   "metadata": {},
   "source": [
    "No"
   ]
  },
  {
   "cell_type": "markdown",
   "metadata": {},
   "source": [
    "__Q7b.__ Does there appear to be an important difference between the alcohol use rate of women and men?"
   ]
  },
  {
   "cell_type": "markdown",
   "metadata": {},
   "source": [
    "Not much"
   ]
  },
  {
   "cell_type": "markdown",
   "metadata": {},
   "source": [
    "## Question 8: \n",
    "\n",
    "Use logistic regression to express the log odds that a person drinks (based on the binary drinking variable that you constructed above) in terms of gender."
   ]
  },
  {
   "cell_type": "code",
   "execution_count": 76,
   "metadata": {},
   "outputs": [
    {
     "data": {
      "text/html": [
       "<table class=\"simpletable\">\n",
       "<caption>Generalized Linear Model Regression Results</caption>\n",
       "<tr>\n",
       "  <th>Dep. Variable:</th>  <td>['ALQ110x[No]', 'ALQ110x[Yes]']</td> <th>  No. Observations:  </th>  <td>  1575</td>  \n",
       "</tr>\n",
       "<tr>\n",
       "  <th>Model:</th>                        <td>GLM</td>               <th>  Df Residuals:      </th>  <td>  1573</td>  \n",
       "</tr>\n",
       "<tr>\n",
       "  <th>Model Family:</th>              <td>Binomial</td>             <th>  Df Model:          </th>  <td>     1</td>  \n",
       "</tr>\n",
       "<tr>\n",
       "  <th>Link Function:</th>               <td>logit</td>              <th>  Scale:             </th> <td>  1.0000</td> \n",
       "</tr>\n",
       "<tr>\n",
       "  <th>Method:</th>                      <td>IRLS</td>               <th>  Log-Likelihood:    </th> <td> -1084.4</td> \n",
       "</tr>\n",
       "<tr>\n",
       "  <th>Date:</th>                  <td>Wed, 17 Jun 2020</td>         <th>  Deviance:          </th> <td>  2168.8</td> \n",
       "</tr>\n",
       "<tr>\n",
       "  <th>Time:</th>                      <td>13:15:05</td>             <th>  Pearson chi2:      </th> <td>1.57e+03</td> \n",
       "</tr>\n",
       "<tr>\n",
       "  <th>No. Iterations:</th>                <td>4</td>                <th>  Covariance Type:   </th> <td>nonrobust</td>\n",
       "</tr>\n",
       "</table>\n",
       "<table class=\"simpletable\">\n",
       "<tr>\n",
       "          <td></td>             <th>coef</th>     <th>std err</th>      <th>z</th>      <th>P>|z|</th>  <th>[0.025</th>    <th>0.975]</th>  \n",
       "</tr>\n",
       "<tr>\n",
       "  <th>Intercept</th>         <td>    0.2027</td> <td>    0.060</td> <td>    3.372</td> <td> 0.001</td> <td>    0.085</td> <td>    0.320</td>\n",
       "</tr>\n",
       "<tr>\n",
       "  <th>RIAGENDRx[T.Male]</th> <td>   -0.0356</td> <td>    0.112</td> <td>   -0.319</td> <td> 0.750</td> <td>   -0.254</td> <td>    0.183</td>\n",
       "</tr>\n",
       "</table>"
      ],
      "text/plain": [
       "<class 'statsmodels.iolib.summary.Summary'>\n",
       "\"\"\"\n",
       "                        Generalized Linear Model Regression Results                        \n",
       "===========================================================================================\n",
       "Dep. Variable:     ['ALQ110x[No]', 'ALQ110x[Yes]']   No. Observations:                 1575\n",
       "Model:                                         GLM   Df Residuals:                     1573\n",
       "Model Family:                             Binomial   Df Model:                            1\n",
       "Link Function:                               logit   Scale:                          1.0000\n",
       "Method:                                       IRLS   Log-Likelihood:                -1084.4\n",
       "Date:                             Wed, 17 Jun 2020   Deviance:                       2168.8\n",
       "Time:                                     13:15:05   Pearson chi2:                 1.57e+03\n",
       "No. Iterations:                                  4   Covariance Type:             nonrobust\n",
       "=====================================================================================\n",
       "                        coef    std err          z      P>|z|      [0.025      0.975]\n",
       "-------------------------------------------------------------------------------------\n",
       "Intercept             0.2027      0.060      3.372      0.001       0.085       0.320\n",
       "RIAGENDRx[T.Male]    -0.0356      0.112     -0.319      0.750      -0.254       0.183\n",
       "=====================================================================================\n",
       "\"\"\""
      ]
     },
     "execution_count": 76,
     "metadata": {},
     "output_type": "execute_result"
    }
   ],
   "source": [
    "model = sm.GLM.from_formula(\"ALQ110x ~ RIAGENDRx\", family=sm.families.Binomial(), data=da)\n",
    "result = model.fit()\n",
    "result.summary()"
   ]
  },
  {
   "cell_type": "markdown",
   "metadata": {},
   "source": [
    "__Q8a.__ Is there statistical evidence that the drinking rate differs between women and men?  If so, in what direction is there a difference?"
   ]
  },
  {
   "cell_type": "markdown",
   "metadata": {},
   "source": [
    "No significant. P value is value is very large."
   ]
  },
  {
   "cell_type": "markdown",
   "metadata": {},
   "source": [
    "__Q8b.__ Confirm that the log odds ratio between drinking and smoking calculated using the logistic regression model matches the log odds ratio calculated directly in question 6."
   ]
  },
  {
   "cell_type": "code",
   "execution_count": 78,
   "metadata": {},
   "outputs": [
    {
     "data": {
      "text/plain": [
       "0.035602708770614305"
      ]
     },
     "execution_count": 78,
     "metadata": {},
     "output_type": "execute_result"
    }
   ],
   "source": [
    "c.logodds.Male - c.logodds.Female"
   ]
  },
  {
   "cell_type": "markdown",
   "metadata": {},
   "source": [
    "Shows the same ratio"
   ]
  },
  {
   "cell_type": "markdown",
   "metadata": {},
   "source": [
    "## Question 9: \n",
    "\n",
    "Use logistic regression to relate drinking to age, gender, and education."
   ]
  },
  {
   "cell_type": "code",
   "execution_count": 82,
   "metadata": {},
   "outputs": [
    {
     "data": {
      "text/html": [
       "<table class=\"simpletable\">\n",
       "<caption>Generalized Linear Model Regression Results</caption>\n",
       "<tr>\n",
       "  <th>Dep. Variable:</th>  <td>['ALQ110x[No]', 'ALQ110x[Yes]']</td> <th>  No. Observations:  </th>  <td>  1575</td>  \n",
       "</tr>\n",
       "<tr>\n",
       "  <th>Model:</th>                        <td>GLM</td>               <th>  Df Residuals:      </th>  <td>  1567</td>  \n",
       "</tr>\n",
       "<tr>\n",
       "  <th>Model Family:</th>              <td>Binomial</td>             <th>  Df Model:          </th>  <td>     7</td>  \n",
       "</tr>\n",
       "<tr>\n",
       "  <th>Link Function:</th>               <td>logit</td>              <th>  Scale:             </th> <td>  1.0000</td> \n",
       "</tr>\n",
       "<tr>\n",
       "  <th>Method:</th>                      <td>IRLS</td>               <th>  Log-Likelihood:    </th> <td> -1059.5</td> \n",
       "</tr>\n",
       "<tr>\n",
       "  <th>Date:</th>                  <td>Wed, 17 Jun 2020</td>         <th>  Deviance:          </th> <td>  2118.9</td> \n",
       "</tr>\n",
       "<tr>\n",
       "  <th>Time:</th>                      <td>13:20:49</td>             <th>  Pearson chi2:      </th> <td>1.57e+03</td> \n",
       "</tr>\n",
       "<tr>\n",
       "  <th>No. Iterations:</th>               <td>19</td>                <th>  Covariance Type:   </th> <td>nonrobust</td>\n",
       "</tr>\n",
       "</table>\n",
       "<table class=\"simpletable\">\n",
       "<tr>\n",
       "                           <td></td>                              <th>coef</th>     <th>std err</th>      <th>z</th>      <th>P>|z|</th>  <th>[0.025</th>    <th>0.975]</th>  \n",
       "</tr>\n",
       "<tr>\n",
       "  <th>Intercept</th>                                           <td>    0.9182</td> <td>    0.219</td> <td>    4.200</td> <td> 0.000</td> <td>    0.490</td> <td>    1.347</td>\n",
       "</tr>\n",
       "<tr>\n",
       "  <th>RIAGENDRx[T.Male]</th>                                   <td>   -0.0172</td> <td>    0.114</td> <td>   -0.151</td> <td> 0.880</td> <td>   -0.240</td> <td>    0.205</td>\n",
       "</tr>\n",
       "<tr>\n",
       "  <th>DMDEDUC2x[T.College graduate or above]</th>              <td>   -0.4886</td> <td>    0.182</td> <td>   -2.681</td> <td> 0.007</td> <td>   -0.846</td> <td>   -0.131</td>\n",
       "</tr>\n",
       "<tr>\n",
       "  <th>DMDEDUC2x[T.Don't Know]</th>                             <td>   20.2699</td> <td> 1.77e+04</td> <td>    0.001</td> <td> 0.999</td> <td>-3.47e+04</td> <td> 3.48e+04</td>\n",
       "</tr>\n",
       "<tr>\n",
       "  <th>DMDEDUC2x[T.High school graduate/GED or equivalent]</th> <td>   -0.4013</td> <td>    0.184</td> <td>   -2.179</td> <td> 0.029</td> <td>   -0.762</td> <td>   -0.040</td>\n",
       "</tr>\n",
       "<tr>\n",
       "  <th>DMDEDUC2x[T.Less than 9th grade]</th>                    <td>    0.4087</td> <td>    0.194</td> <td>    2.105</td> <td> 0.035</td> <td>    0.028</td> <td>    0.789</td>\n",
       "</tr>\n",
       "<tr>\n",
       "  <th>DMDEDUC2x[T.Some college or AA degree]</th>              <td>   -0.5421</td> <td>    0.175</td> <td>   -3.098</td> <td> 0.002</td> <td>   -0.885</td> <td>   -0.199</td>\n",
       "</tr>\n",
       "<tr>\n",
       "  <th>RIDAGEYR</th>                                            <td>   -0.0086</td> <td>    0.003</td> <td>   -2.951</td> <td> 0.003</td> <td>   -0.014</td> <td>   -0.003</td>\n",
       "</tr>\n",
       "</table>"
      ],
      "text/plain": [
       "<class 'statsmodels.iolib.summary.Summary'>\n",
       "\"\"\"\n",
       "                        Generalized Linear Model Regression Results                        \n",
       "===========================================================================================\n",
       "Dep. Variable:     ['ALQ110x[No]', 'ALQ110x[Yes]']   No. Observations:                 1575\n",
       "Model:                                         GLM   Df Residuals:                     1567\n",
       "Model Family:                             Binomial   Df Model:                            7\n",
       "Link Function:                               logit   Scale:                          1.0000\n",
       "Method:                                       IRLS   Log-Likelihood:                -1059.5\n",
       "Date:                             Wed, 17 Jun 2020   Deviance:                       2118.9\n",
       "Time:                                     13:20:49   Pearson chi2:                 1.57e+03\n",
       "No. Iterations:                                 19   Covariance Type:             nonrobust\n",
       "=======================================================================================================================\n",
       "                                                          coef    std err          z      P>|z|      [0.025      0.975]\n",
       "-----------------------------------------------------------------------------------------------------------------------\n",
       "Intercept                                               0.9182      0.219      4.200      0.000       0.490       1.347\n",
       "RIAGENDRx[T.Male]                                      -0.0172      0.114     -0.151      0.880      -0.240       0.205\n",
       "DMDEDUC2x[T.College graduate or above]                 -0.4886      0.182     -2.681      0.007      -0.846      -0.131\n",
       "DMDEDUC2x[T.Don't Know]                                20.2699   1.77e+04      0.001      0.999   -3.47e+04    3.48e+04\n",
       "DMDEDUC2x[T.High school graduate/GED or equivalent]    -0.4013      0.184     -2.179      0.029      -0.762      -0.040\n",
       "DMDEDUC2x[T.Less than 9th grade]                        0.4087      0.194      2.105      0.035       0.028       0.789\n",
       "DMDEDUC2x[T.Some college or AA degree]                 -0.5421      0.175     -3.098      0.002      -0.885      -0.199\n",
       "RIDAGEYR                                               -0.0086      0.003     -2.951      0.003      -0.014      -0.003\n",
       "=======================================================================================================================\n",
       "\"\"\""
      ]
     },
     "execution_count": 82,
     "metadata": {},
     "output_type": "execute_result"
    }
   ],
   "source": [
    "model = sm.GLM.from_formula(\"ALQ110x ~ RIAGENDRx + RIDAGEYR + DMDEDUC2x\", family=sm.families.Binomial(), data=da)\n",
    "result = model.fit()\n",
    "result.summary()"
   ]
  },
  {
   "cell_type": "markdown",
   "metadata": {},
   "source": [
    "__Q9a.__ Which of these predictor variables shows a statistically significant association with drinking?"
   ]
  },
  {
   "cell_type": "markdown",
   "metadata": {},
   "source": [
    "Education and age"
   ]
  },
  {
   "cell_type": "markdown",
   "metadata": {},
   "source": [
    "__Q9b.__ What is the odds of a college educated, 50 year old woman drinking?"
   ]
  },
  {
   "cell_type": "code",
   "execution_count": 85,
   "metadata": {},
   "outputs": [
    {
     "data": {
      "text/plain": [
       "0.9996000799893344"
      ]
     },
     "execution_count": 85,
     "metadata": {},
     "output_type": "execute_result"
    }
   ],
   "source": [
    "np.exp(-0.0086 * 50 + 0.9182 + -0.4886) "
   ]
  },
  {
   "cell_type": "markdown",
   "metadata": {},
   "source": [
    "Odds of 1"
   ]
  },
  {
   "cell_type": "markdown",
   "metadata": {},
   "source": [
    "__Q9c.__ What is the odds ratio between the drinking status for college graduates and high school graduates (with no college), holding gender and age fixed?"
   ]
  },
  {
   "cell_type": "code",
   "execution_count": 88,
   "metadata": {},
   "outputs": [
    {
     "data": {
      "text/plain": [
       "0.9164021337508069"
      ]
     },
     "execution_count": 88,
     "metadata": {},
     "output_type": "execute_result"
    }
   ],
   "source": [
    "np.exp(-0.4886) / np.exp(-0.4013)"
   ]
  },
  {
   "cell_type": "markdown",
   "metadata": {},
   "source": []
  },
  {
   "cell_type": "markdown",
   "metadata": {},
   "source": [
    "__Q9d.__ Did the regression parameter for gender change to a meaningful degree when age and education were added to the model?"
   ]
  },
  {
   "cell_type": "markdown",
   "metadata": {},
   "source": [
    "Yes"
   ]
  },
  {
   "cell_type": "markdown",
   "metadata": {},
   "source": [
    "## Question 10:\n",
    "\n",
    "Construct a CERES plot for the relationship between drinking and age (using the model that controls for gender and educational attainment)."
   ]
  },
  {
   "cell_type": "code",
   "execution_count": 89,
   "metadata": {},
   "outputs": [
    {
     "data": {
      "image/png": "[encoded data removed]",
      "text/plain": [
       "<Figure size 432x288 with 1 Axes>"
      ]
     },
     "metadata": {},
     "output_type": "display_data"
    }
   ],
   "source": [
    "# enter your code \n",
    "fig = result.plot_ceres_residuals(\"RIDAGEYR\")\n",
    "ax = fig.get_axes()[0]\n",
    "ax.lines[0].set_alpha(0.2)\n",
    "_ = add_lowess(ax)"
   ]
  },
  {
   "cell_type": "markdown",
   "metadata": {},
   "source": [
    "__Q10a.__ Does the plot indicate any major non-linearity in the relationship between age and the log odds for drinking?"
   ]
  },
  {
   "cell_type": "code",
   "execution_count": 90,
   "metadata": {},
   "outputs": [],
   "source": [
    "# 55 - 60 increase then decreas from 65-70 : This shows that model is not perfectly linear"
   ]
  }
 ],
 "metadata": {
  "kernelspec": {
   "display_name": "Python 3",
   "language": "python",
   "name": "python3"
  },
  "language_info": {
   "codemirror_mode": {
    "name": "ipython",
    "version": 3
   },
   "file_extension": ".py",
   "mimetype": "text/x-python",
   "name": "python",
   "nbconvert_exporter": "python",
   "pygments_lexer": "ipython3",
   "version": "3.6.3"
  }
 },
 "nbformat": 4,
 "nbformat_minor": 1
}
